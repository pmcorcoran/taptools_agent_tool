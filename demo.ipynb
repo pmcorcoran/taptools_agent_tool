{
 "cells": [
  {
   "cell_type": "markdown",
   "id": "55d06762-2b14-4c44-b267-2d450fb9b1d4",
   "metadata": {},
   "source": [
    "Demo\n",
    "\n",
    "This is a demonstration of the tool in use with a langchain agent.\n",
    "We will give the tool to a prebuilt langchain agent and ask it some questions."
   ]
  },
  {
   "cell_type": "code",
   "execution_count": 1,
   "id": "d56c7521-bc90-4b53-85ad-b93217de765d",
   "metadata": {},
   "outputs": [],
   "source": [
    "import os\n",
    "from tool import TapToolsAPIResults #import our taptools tool\n",
    "import time # not explicitly used, but rate_limiter wasn't working w/o it\n",
    "\n",
    "from langchain_anthropic import ChatAnthropic\n",
    "from langchain_core.messages import HumanMessage\n",
    "from langchain_core.rate_limiters import InMemoryRateLimiter"
   ]
  },
  {
   "cell_type": "code",
   "execution_count": 2,
   "id": "69d4e2f2-efaa-4cd0-8050-abe934ffa60c",
   "metadata": {},
   "outputs": [
    {
     "name": "stderr",
     "output_type": "stream",
     "text": [
      "/var/folders/fh/7krdbwxx6pbbqjryxc9f6qjw0000gn/T/ipykernel_320/735258499.py:1: LangChainBetaWarning: Introduced in 0.2.24. API subject to change.\n",
      "  rate_limiter = InMemoryRateLimiter(\n"
     ]
    }
   ],
   "source": [
    "#setting rate limiter so we don't exceed anthropics rate limit on \"basic\" plan\n",
    "# going to get a warning that rate_limiter is in beta annd subject to change\n",
    "rate_limiter = InMemoryRateLimiter(\n",
    "    requests_per_second=0.02,  # requests per second\n",
    "    check_every_n_seconds=60,  # Wake up every n seconds to check whether allowed to make a request,\n",
    "    max_bucket_size=1,  # Controls the maximum burst size.\n",
    ")"
   ]
  },
  {
   "cell_type": "code",
   "execution_count": 3,
   "id": "4037bb6c-242a-4dc6-a0a2-b48e153f2ab1",
   "metadata": {},
   "outputs": [],
   "source": [
    "if not os.environ.get(\"ANTHROPIC_API_KEY\"):\n",
    "  os.environ[\"ANTHROPIC_API_KEY\"] = os.getenv(\"ANTHROPIC_API_KEY\")\n",
    "\n",
    "taptools_key = os.getenv(\"TAPTOOLS_API_KEY\")"
   ]
  },
  {
   "cell_type": "code",
   "execution_count": 4,
   "id": "f0208ec4-7d9b-4141-9d22-23ae0f7fbb5c",
   "metadata": {},
   "outputs": [],
   "source": [
    "model = ChatAnthropic(model=\"claude-3-5-sonnet-latest\", temperature=0, rate_limiter=rate_limiter)"
   ]
  },
  {
   "cell_type": "code",
   "execution_count": 5,
   "id": "207de964-d437-4fab-987d-d801b37f7ad4",
   "metadata": {},
   "outputs": [],
   "source": [
    "# instantiate tool\n",
    "taptools_tool = TapToolsAPIResults()\n",
    "\n",
    "#our prebuilt agent will need a list of tools\n",
    "tools = [taptools_tool]"
   ]
  },
  {
   "cell_type": "code",
   "execution_count": 6,
   "id": "85da5089-d0b3-4dbe-bf81-5e71f9c75e95",
   "metadata": {},
   "outputs": [],
   "source": [
    "from langgraph.prebuilt import create_react_agent\n",
    "\n",
    "agent_executor = create_react_agent(model, tools)"
   ]
  },
  {
   "cell_type": "code",
   "execution_count": null,
   "id": "11bcc4c5-bac6-40bb-9fee-1b0bb6a62598",
   "metadata": {},
   "outputs": [],
   "source": [
    "response = agent_executor.invoke({\"messages\": [HumanMessage(content=\"What token has performed best in the last 30 days out of the top 50 tokens by market cap?\")]})\n",
    "\n",
    "print(response)"
   ]
  }
 ],
 "metadata": {
  "kernelspec": {
   "display_name": "Python 3 (ipykernel)",
   "language": "python",
   "name": "python3"
  },
  "language_info": {
   "codemirror_mode": {
    "name": "ipython",
    "version": 3
   },
   "file_extension": ".py",
   "mimetype": "text/x-python",
   "name": "python",
   "nbconvert_exporter": "python",
   "pygments_lexer": "ipython3",
   "version": "3.11.4"
  }
 },
 "nbformat": 4,
 "nbformat_minor": 5
}
